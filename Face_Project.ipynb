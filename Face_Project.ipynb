{
  "nbformat": 4,
  "nbformat_minor": 0,
  "metadata": {
    "colab": {
      "provenance": [],
      "gpuType": "T4"
    },
    "kernelspec": {
      "name": "python3",
      "display_name": "Python 3"
    },
    "language_info": {
      "name": "python"
    },
    "accelerator": "GPU"
  },
  "cells": [
    {
      "cell_type": "code",
      "execution_count": 1,
      "metadata": {
        "id": "RYyOXFry1Y3o"
      },
      "outputs": [],
      "source": [
        "import numpy as np\n",
        "import pandas as pd\n",
        "import tensorflow as tf\n",
        "from tensorflow.keras import layers,Sequential\n",
        "import tensorflow_hub as hub\n",
        "import os\n",
        "import zipfile\n",
        "import shutil\n",
        "import matplotlib.pyplot as plt\n",
        "import seaborn as sns"
      ]
    },
    {
      "cell_type": "code",
      "source": [
        "zip_file = '/content/archive (34).zip'\n",
        "extracted_file = '/content/extracted file/'\n",
        "\n",
        "\n",
        "with zipfile.ZipFile(zip_file,'r') as zip_ref:\n",
        "  zip_ref.extractall(extracted_file)"
      ],
      "metadata": {
        "id": "f7CAOyvP2FsO"
      },
      "execution_count": 2,
      "outputs": []
    },
    {
      "cell_type": "code",
      "source": [
        "train_dir = '/content/extracted file/Human Faces Dataset/AI-Generated Images'\n",
        "val_dir = '/content/extracted file/Human Faces Dataset/Real Images'\n",
        "\n",
        "os.makedirs(os.path.join(train_dir,'class1'),exist_ok = True)\n",
        "os.makedirs(os.path.join(val_dir,'class1'),exist_ok = True)\n",
        "\n",
        "for filename in os.listdir(train_dir):\n",
        "  file_path = os.path.join(train_dir,filename)\n",
        "  if os.path.isfile(file_path):\n",
        "    shutil.move(file_path,os.path.join(train_dir,'class1',filename))\n",
        "\n",
        "\n",
        "for filename in os.listdir(val_dir):\n",
        "  file_path = os.path.join(val_dir,filename)\n",
        "  if os.path.isfile(file_path):\n",
        "    shutil.move(file_path,os.path.join(val_dir,'class1',filename))"
      ],
      "metadata": {
        "id": "eO5oSdvs2kTl"
      },
      "execution_count": 3,
      "outputs": []
    },
    {
      "cell_type": "code",
      "source": [
        "from tensorflow.keras.preprocessing.image import ImageDataGenerator\n",
        "\n",
        "train_datagen = ImageDataGenerator(\n",
        "    rescale = 1./255,\n",
        "    rotation_range = 20,\n",
        "    horizontal_flip = True,\n",
        "    zoom_range = 0.2\n",
        ")\n",
        "\n",
        "val_datagen = ImageDataGenerator(rescale = 1./255)\n",
        "\n",
        "train_generator = train_datagen.flow_from_directory(\n",
        "    train_dir,\n",
        "    target_size = (224,224),\n",
        "    batch_size = 32\n",
        ")\n",
        "\n",
        "val_generator = val_datagen.flow_from_directory(\n",
        "    val_dir,\n",
        "    target_size = (224,224),\n",
        "    batch_size = 32\n",
        ")"
      ],
      "metadata": {
        "colab": {
          "base_uri": "https://localhost:8080/"
        },
        "id": "JAT42FAs4MYd",
        "outputId": "2e3f2cfd-45d5-482e-af7b-e02ad82de222"
      },
      "execution_count": 4,
      "outputs": [
        {
          "output_type": "stream",
          "name": "stdout",
          "text": [
            "Found 4630 images belonging to 1 classes.\n",
            "Found 5000 images belonging to 1 classes.\n"
          ]
        }
      ]
    },
    {
      "cell_type": "code",
      "source": [
        "model = Sequential([\n",
        "    layers.Conv2D(32,(3,3),activation = 'relu',input_shape = (224,224,3)),\n",
        "    layers.MaxPooling2D((2,2)),\n",
        "\n",
        "    layers.Flatten(),\n",
        "    layers.Dense(512,activation = 'relu'),\n",
        "    layers.Dense(2,activation = 'softmax')\n",
        "])\n",
        "\n",
        "\n",
        "model.compile(loss = 'sparse_categorical_crossentropy',optimizer = 'adam',metrics = ['accuracy'])\n",
        "\n",
        "model.fit(train_generator,epochs = 5,validation_data = val_generator)"
      ],
      "metadata": {
        "id": "cqe455l59gig",
        "colab": {
          "base_uri": "https://localhost:8080/"
        },
        "outputId": "21fb370b-ab72-4b24-bfdb-faf1bb1bd8ae"
      },
      "execution_count": 6,
      "outputs": [
        {
          "output_type": "stream",
          "name": "stdout",
          "text": [
            "Epoch 1/5\n"
          ]
        },
        {
          "output_type": "stream",
          "name": "stderr",
          "text": [
            "/usr/local/lib/python3.10/dist-packages/keras/src/trainers/data_adapters/py_dataset_adapter.py:121: UserWarning: Your `PyDataset` class should call `super().__init__(**kwargs)` in its constructor. `**kwargs` can include `workers`, `use_multiprocessing`, `max_queue_size`. Do not pass these arguments to `fit()`, as they will be ignored.\n",
            "  self._warn_if_super_not_called()\n"
          ]
        },
        {
          "output_type": "stream",
          "name": "stdout",
          "text": [
            "\u001b[1m145/145\u001b[0m \u001b[32m━━━━━━━━━━━━━━━━━━━━\u001b[0m\u001b[37m\u001b[0m \u001b[1m75s\u001b[0m 452ms/step - accuracy: 1.0000 - loss: 0.0202 - val_accuracy: 1.0000 - val_loss: 0.0000e+00\n",
            "Epoch 2/5\n",
            "\u001b[1m145/145\u001b[0m \u001b[32m━━━━━━━━━━━━━━━━━━━━\u001b[0m\u001b[37m\u001b[0m \u001b[1m63s\u001b[0m 416ms/step - accuracy: 1.0000 - loss: 0.0000e+00 - val_accuracy: 1.0000 - val_loss: 0.0000e+00\n",
            "Epoch 3/5\n",
            "\u001b[1m145/145\u001b[0m \u001b[32m━━━━━━━━━━━━━━━━━━━━\u001b[0m\u001b[37m\u001b[0m \u001b[1m86s\u001b[0m 440ms/step - accuracy: 1.0000 - loss: 0.0000e+00 - val_accuracy: 1.0000 - val_loss: 0.0000e+00\n",
            "Epoch 4/5\n",
            "\u001b[1m145/145\u001b[0m \u001b[32m━━━━━━━━━━━━━━━━━━━━\u001b[0m\u001b[37m\u001b[0m \u001b[1m66s\u001b[0m 441ms/step - accuracy: 1.0000 - loss: 0.0000e+00 - val_accuracy: 1.0000 - val_loss: 0.0000e+00\n",
            "Epoch 5/5\n",
            "\u001b[1m145/145\u001b[0m \u001b[32m━━━━━━━━━━━━━━━━━━━━\u001b[0m\u001b[37m\u001b[0m \u001b[1m82s\u001b[0m 441ms/step - accuracy: 1.0000 - loss: 0.0000e+00 - val_accuracy: 1.0000 - val_loss: 0.0000e+00\n"
          ]
        },
        {
          "output_type": "execute_result",
          "data": {
            "text/plain": [
              "<keras.src.callbacks.history.History at 0x7c7a80696ec0>"
            ]
          },
          "metadata": {},
          "execution_count": 6
        }
      ]
    },
    {
      "cell_type": "code",
      "source": [
        "from tensorflow.keras.applications import InceptionResNetV2\n",
        "\n",
        "base_model = InceptionResNetV2(include_top = False)\n",
        "base_model.trainable = False\n",
        "\n",
        "inputs = layers.Input(shape = (224,224,3))\n",
        "x = base_model(inputs,training = False)\n",
        "x = layers.GlobalAveragePooling2D()(x)\n",
        "x = layers.Dense(2,activation = 'softmax')(x)\n",
        "\n",
        "model = tf.keras.Model(inputs = inputs,outputs = x)\n",
        "\n",
        "model.compile(loss = 'sparse_categorical_crossentropy',optimizer = 'adam',metrics = ['accuracy'])\n",
        "\n",
        "model.fit(train_generator,epochs = 5,validation_data = val_generator)\n",
        "\n",
        "base_model.trainable = True\n",
        "\n",
        "model.compile(loss = 'sparse_categorical_crossentropy',optimizer = 'adam',metrics = ['accuracy'])\n",
        "\n",
        "model.fit(train_generator,epochs = 3,validation_data = val_generator)"
      ],
      "metadata": {
        "colab": {
          "base_uri": "https://localhost:8080/"
        },
        "id": "oWJ-QaTfFXJs",
        "outputId": "7212faac-0031-4f24-9954-b2c693010984"
      },
      "execution_count": 7,
      "outputs": [
        {
          "output_type": "stream",
          "name": "stdout",
          "text": [
            "Downloading data from https://storage.googleapis.com/tensorflow/keras-applications/inception_resnet_v2/inception_resnet_v2_weights_tf_dim_ordering_tf_kernels_notop.h5\n",
            "\u001b[1m219055592/219055592\u001b[0m \u001b[32m━━━━━━━━━━━━━━━━━━━━\u001b[0m\u001b[37m\u001b[0m \u001b[1m2s\u001b[0m 0us/step\n",
            "Epoch 1/5\n",
            "\u001b[1m145/145\u001b[0m \u001b[32m━━━━━━━━━━━━━━━━━━━━\u001b[0m\u001b[37m\u001b[0m \u001b[1m142s\u001b[0m 759ms/step - accuracy: 0.9988 - loss: 0.0278 - val_accuracy: 1.0000 - val_loss: 2.4516e-05\n",
            "Epoch 2/5\n",
            "\u001b[1m145/145\u001b[0m \u001b[32m━━━━━━━━━━━━━━━━━━━━\u001b[0m\u001b[37m\u001b[0m \u001b[1m83s\u001b[0m 557ms/step - accuracy: 1.0000 - loss: 3.5528e-05 - val_accuracy: 1.0000 - val_loss: 2.0660e-05\n",
            "Epoch 3/5\n",
            "\u001b[1m145/145\u001b[0m \u001b[32m━━━━━━━━━━━━━━━━━━━━\u001b[0m\u001b[37m\u001b[0m \u001b[1m143s\u001b[0m 566ms/step - accuracy: 1.0000 - loss: 3.0440e-05 - val_accuracy: 1.0000 - val_loss: 1.7016e-05\n",
            "Epoch 4/5\n",
            "\u001b[1m145/145\u001b[0m \u001b[32m━━━━━━━━━━━━━━━━━━━━\u001b[0m\u001b[37m\u001b[0m \u001b[1m83s\u001b[0m 555ms/step - accuracy: 1.0000 - loss: 2.5175e-05 - val_accuracy: 1.0000 - val_loss: 1.4037e-05\n",
            "Epoch 5/5\n",
            "\u001b[1m145/145\u001b[0m \u001b[32m━━━━━━━━━━━━━━━━━━━━\u001b[0m\u001b[37m\u001b[0m \u001b[1m143s\u001b[0m 564ms/step - accuracy: 1.0000 - loss: 2.1039e-05 - val_accuracy: 1.0000 - val_loss: 1.1619e-05\n",
            "Epoch 1/3\n",
            "\u001b[1m145/145\u001b[0m \u001b[32m━━━━━━━━━━━━━━━━━━━━\u001b[0m\u001b[37m\u001b[0m \u001b[1m370s\u001b[0m 1s/step - accuracy: 1.0000 - loss: 5.3902e-05 - val_accuracy: 1.0000 - val_loss: 3.4938e-04\n",
            "Epoch 2/3\n",
            "\u001b[1m145/145\u001b[0m \u001b[32m━━━━━━━━━━━━━━━━━━━━\u001b[0m\u001b[37m\u001b[0m \u001b[1m108s\u001b[0m 731ms/step - accuracy: 1.0000 - loss: 1.9561e-09 - val_accuracy: 1.0000 - val_loss: 5.5118e-05\n",
            "Epoch 3/3\n",
            "\u001b[1m145/145\u001b[0m \u001b[32m━━━━━━━━━━━━━━━━━━━━\u001b[0m\u001b[37m\u001b[0m \u001b[1m110s\u001b[0m 731ms/step - accuracy: 1.0000 - loss: 4.8768e-10 - val_accuracy: 1.0000 - val_loss: 8.2754e-06\n"
          ]
        },
        {
          "output_type": "execute_result",
          "data": {
            "text/plain": [
              "<keras.src.callbacks.history.History at 0x7c7a1a12a740>"
            ]
          },
          "metadata": {},
          "execution_count": 7
        }
      ]
    },
    {
      "cell_type": "code",
      "source": [],
      "metadata": {
        "id": "JKNV4HajHuin"
      },
      "execution_count": null,
      "outputs": []
    }
  ]
}