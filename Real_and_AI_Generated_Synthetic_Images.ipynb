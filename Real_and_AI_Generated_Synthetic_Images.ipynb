{
  "nbformat": 4,
  "nbformat_minor": 0,
  "metadata": {
    "colab": {
      "provenance": [],
      "gpuType": "T4"
    },
    "kernelspec": {
      "name": "python3",
      "display_name": "Python 3"
    },
    "language_info": {
      "name": "python"
    },
    "accelerator": "GPU"
  },
  "cells": [
    {
      "cell_type": "code",
      "execution_count": 14,
      "metadata": {
        "id": "yoKJebGZ6ds2"
      },
      "outputs": [],
      "source": [
        "import numpy as np\n",
        "import pandas as pd\n",
        "import matplotlib.pyplot as plt\n",
        "import seaborn as sns\n",
        "import tensorflow as tf\n",
        "from tensorflow.keras import Sequential,layers\n",
        "import tensorflow_hub as hub"
      ]
    },
    {
      "cell_type": "code",
      "source": [
        "import os\n",
        "import shutil\n",
        "import zipfile\n",
        "\n",
        "zip_file_path = '/content/archive (38).zip'\n",
        "extracted_file_path = '/content/extracted file'\n",
        "\n",
        "with zipfile.ZipFile(zip_file_path,'r') as zip_ref:\n",
        "  zip_ref.extractall(extracted_file_path)"
      ],
      "metadata": {
        "id": "0ukeDxxj7loZ"
      },
      "execution_count": 15,
      "outputs": []
    },
    {
      "cell_type": "code",
      "source": [
        "test_fake_dir = '/content/extracted file/test/FAKE'\n",
        "\n",
        "os.makedirs(os.path.join(test_fake_dir,'class1'),exist_ok = True)\n",
        "\n",
        "for filename in os.listdir(test_fake_dir):\n",
        "  file_path = os.path.join(test_fake_dir,filename)\n",
        "  if os.path.isfile(file_path):\n",
        "    shutil.move(file_path,os.path.join(test_fake_dir,'class1',filename))"
      ],
      "metadata": {
        "id": "NjH2vdOt8ClQ"
      },
      "execution_count": 16,
      "outputs": []
    },
    {
      "cell_type": "code",
      "source": [
        "test_real_dir = '/content/extracted file/test/REAL'\n",
        "\n",
        "os.makedirs(os.path.join(test_real_dir,'class1'),exist_ok = True)\n",
        "\n",
        "for filename in os.listdir(test_real_dir):\n",
        "  file_path = os.path.join(test_real_dir,filename)\n",
        "  if os.path.isfile(file_path):\n",
        "    shutil.move(file_path,os.path.join(test_real_dir,'class1',filename))"
      ],
      "metadata": {
        "id": "pqFjVAD0-W59"
      },
      "execution_count": 17,
      "outputs": []
    },
    {
      "cell_type": "code",
      "source": [
        "from tensorflow.keras.preprocessing.image import ImageDataGenerator\n",
        "\n",
        "test_real_generator = ImageDataGenerator(\n",
        "    rescale = 1./255,\n",
        "    rotation_range = 20,\n",
        "    horizontal_flip = True,\n",
        "    zoom_range = 0.2\n",
        ")\n",
        "\n",
        "test_fake_generator = ImageDataGenerator(\n",
        "    rescale = 1./255\n",
        ")\n",
        "\n",
        "\n",
        "test_real_dataset = test_real_generator.flow_from_directory(\n",
        "    test_real_dir,\n",
        "    target_size = (150,150),\n",
        "    batch_size = 32\n",
        ")\n",
        "\n",
        "\n",
        "test_fake_dataset = test_fake_generator.flow_from_directory(\n",
        "    test_fake_dir,\n",
        "    target_size = (150,150),\n",
        "    batch_size = 32\n",
        ")"
      ],
      "metadata": {
        "colab": {
          "base_uri": "https://localhost:8080/"
        },
        "id": "ZWsJvg5_-jIa",
        "outputId": "04f9f968-3050-41eb-82a8-67b7aa648740"
      },
      "execution_count": 18,
      "outputs": [
        {
          "output_type": "stream",
          "name": "stdout",
          "text": [
            "Found 10000 images belonging to 1 classes.\n",
            "Found 10000 images belonging to 1 classes.\n"
          ]
        }
      ]
    },
    {
      "cell_type": "code",
      "source": [
        "model = Sequential([\n",
        "    layers.Conv2D(32,(3,3),activation = 'relu',input_shape = (150,150,3)),\n",
        "    layers.MaxPooling2D(2,2),\n",
        "\n",
        "    layers.Conv2D(64,(3,3),activation = 'relu'),\n",
        "    layers.MaxPooling2D(2,2),\n",
        "\n",
        "    layers.Conv2D(128,(3,3),activation = 'relu'),\n",
        "    layers.MaxPooling2D(2,2),\n",
        "\n",
        "    layers.Flatten(),\n",
        "    layers.Dense(512,activation = 'relu'),\n",
        "    layers.Dense(1,activation = 'sigmoid')\n",
        "])\n",
        "\n",
        "\n",
        "model.compile(loss = 'binary_crossentropy',optimizer = 'adam',metrics = ['accuracy'])\n",
        "\n",
        "model.fit(test_real_dataset,epochs = 2,validation_data = test_fake_dataset)"
      ],
      "metadata": {
        "colab": {
          "base_uri": "https://localhost:8080/"
        },
        "id": "TU3GToV7BAuo",
        "outputId": "51ed6213-2055-43e1-fb8f-e1e255426fa0"
      },
      "execution_count": 19,
      "outputs": [
        {
          "output_type": "stream",
          "name": "stderr",
          "text": [
            "/usr/local/lib/python3.10/dist-packages/keras/src/layers/convolutional/base_conv.py:107: UserWarning: Do not pass an `input_shape`/`input_dim` argument to a layer. When using Sequential models, prefer using an `Input(shape)` object as the first layer in the model instead.\n",
            "  super().__init__(activity_regularizer=activity_regularizer, **kwargs)\n"
          ]
        },
        {
          "output_type": "stream",
          "name": "stdout",
          "text": [
            "Epoch 1/2\n"
          ]
        },
        {
          "output_type": "stream",
          "name": "stderr",
          "text": [
            "/usr/local/lib/python3.10/dist-packages/keras/src/trainers/data_adapters/py_dataset_adapter.py:121: UserWarning: Your `PyDataset` class should call `super().__init__(**kwargs)` in its constructor. `**kwargs` can include `workers`, `use_multiprocessing`, `max_queue_size`. Do not pass these arguments to `fit()`, as they will be ignored.\n",
            "  self._warn_if_super_not_called()\n"
          ]
        },
        {
          "output_type": "stream",
          "name": "stdout",
          "text": [
            "\u001b[1m313/313\u001b[0m \u001b[32m━━━━━━━━━━━━━━━━━━━━\u001b[0m\u001b[37m\u001b[0m \u001b[1m76s\u001b[0m 223ms/step - accuracy: 0.9987 - loss: 0.0137 - val_accuracy: 1.0000 - val_loss: 0.0000e+00\n",
            "Epoch 2/2\n",
            "\u001b[1m313/313\u001b[0m \u001b[32m━━━━━━━━━━━━━━━━━━━━\u001b[0m\u001b[37m\u001b[0m \u001b[1m69s\u001b[0m 217ms/step - accuracy: 1.0000 - loss: 1.4153e-43 - val_accuracy: 1.0000 - val_loss: 0.0000e+00\n"
          ]
        },
        {
          "output_type": "execute_result",
          "data": {
            "text/plain": [
              "<keras.src.callbacks.history.History at 0x7e8bb12d8070>"
            ]
          },
          "metadata": {},
          "execution_count": 19
        }
      ]
    },
    {
      "cell_type": "code",
      "source": [
        "from tensorflow.keras.applications import DenseNet169\n",
        "\n",
        "base_model = DenseNet169(include_top = False)\n",
        "base_model.trainable = False\n",
        "\n",
        "inputs = layers.Input(shape = (150,150,3))\n",
        "x = base_model(inputs,training = False)\n",
        "x = layers.GlobalAveragePooling2D()(x)\n",
        "x = layers.Dense(1,activation = 'sigmoid')(x)\n",
        "\n",
        "model = tf.keras.Model(inputs = inputs,outputs = x)\n",
        "\n",
        "model.compile(loss = 'binary_crossentropy',optimizer = 'adam',metrics = ['accuracy'])\n",
        "\n",
        "model.fit(test_real_dataset,epochs = 1,validation_data = test_fake_dataset)\n",
        "\n",
        "base_model.trainable = True\n",
        "\n",
        "model.compile(loss = 'binary_crossentropy',optimizer = 'adam',metrics = ['accuracy'])\n",
        "\n",
        "model.fit(test_real_dataset,epochs = 1,validation_data = test_fake_dataset)"
      ],
      "metadata": {
        "colab": {
          "base_uri": "https://localhost:8080/"
        },
        "id": "NOJ68YgPE7FB",
        "outputId": "1586fe20-ca0c-4b30-dd7a-c60704231185"
      },
      "execution_count": 20,
      "outputs": [
        {
          "output_type": "stream",
          "name": "stdout",
          "text": [
            "\u001b[1m313/313\u001b[0m \u001b[32m━━━━━━━━━━━━━━━━━━━━\u001b[0m\u001b[37m\u001b[0m \u001b[1m145s\u001b[0m 353ms/step - accuracy: 0.9567 - loss: 0.0956 - val_accuracy: 1.0000 - val_loss: 0.0014\n",
            "\u001b[1m313/313\u001b[0m \u001b[32m━━━━━━━━━━━━━━━━━━━━\u001b[0m\u001b[37m\u001b[0m \u001b[1m455s\u001b[0m 776ms/step - accuracy: 1.0000 - loss: 4.7299e-06 - val_accuracy: 1.0000 - val_loss: 4.4643e-08\n"
          ]
        },
        {
          "output_type": "execute_result",
          "data": {
            "text/plain": [
              "<keras.src.callbacks.history.History at 0x7e8bb6302500>"
            ]
          },
          "metadata": {},
          "execution_count": 20
        }
      ]
    },
    {
      "cell_type": "code",
      "source": [],
      "metadata": {
        "id": "ftrBSl80KI0f"
      },
      "execution_count": 20,
      "outputs": []
    }
  ]
}